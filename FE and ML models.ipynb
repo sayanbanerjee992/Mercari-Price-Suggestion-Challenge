{
 "cells": [
  {
   "cell_type": "code",
   "execution_count": 1,
   "metadata": {
    "colab": {},
    "colab_type": "code",
    "id": "nxtGCfvgqHrr"
   },
   "outputs": [],
   "source": [
    "import warnings\n",
    "warnings.filterwarnings('ignore')\n",
    "\n",
    "import os\n",
    "import shutil\n",
    "import datetime\n",
    "import gc\n",
    "from tqdm import tqdm\n",
    "\n",
    "import pandas as pd\n",
    "import numpy as np\n",
    "\n",
    "%matplotlib inline\n",
    "import matplotlib.pyplot as plt\n",
    "import seaborn as sns\n",
    "sns.set(style='whitegrid')\n",
    "\n",
    "\n",
    "import scipy\n",
    "from scipy import hstack\n",
    "\n",
    "\n",
    "from sklearn.metrics import mean_squared_error as mse\n",
    "from math import sqrt\n",
    "from sklearn.linear_model import Ridge\n",
    "from sklearn.svm import SVR\n",
    "from sklearn.ensemble import RandomForestRegressor\n",
    "from lightgbm import LGBMRegressor\n",
    "\n",
    "from sklearn.model_selection import RandomizedSearchCV \n",
    "from scipy.stats import randint as sp_randint\n",
    "from scipy.stats import uniform\n",
    "#from sklearn.feature_selection.univariate_selection import SelectKBest, f_regression"
   ]
  },
  {
   "cell_type": "markdown",
   "metadata": {
    "colab_type": "text",
    "id": "Cvt8BoiMqHr7"
   },
   "source": [
    "**Loading data**"
   ]
  },
  {
   "cell_type": "code",
   "execution_count": 2,
   "metadata": {
    "colab": {
     "base_uri": "https://localhost:8080/",
     "height": 34
    },
    "colab_type": "code",
    "executionInfo": {
     "elapsed": 8697,
     "status": "ok",
     "timestamp": 1584173356944,
     "user": {
      "displayName": "Arun Singh",
      "photoUrl": "https://lh3.googleusercontent.com/a-/AOh14GiLB1oZWi0vJw-6NUEFnpDZhxuDlv90nmX88O0y-A=s64",
      "userId": "01425536422013553450"
     },
     "user_tz": -330
    },
    "id": "SOEDMdj3qHsC",
    "outputId": "98e773cc-fe96-4de7-e418-b0b23d1fc6a7"
   },
   "outputs": [],
   "source": [
    "df_train = pd.read_csv('train_final.csv')\n",
    "\n",
    "df_test = pd.read_csv('test_final.csv')"
   ]
  },
  {
   "cell_type": "code",
   "execution_count": 3,
   "metadata": {},
   "outputs": [
    {
     "name": "stdout",
     "output_type": "stream",
     "text": [
      "Shape of train data:  (1481075, 59)\n",
      "Shape of test data:  (693359, 58)\n"
     ]
    }
   ],
   "source": [
    "print('Shape of train data: ', df_train.shape)\n",
    "\n",
    "print('Shape of test data: ', df_test.shape)"
   ]
  },
  {
   "cell_type": "code",
   "execution_count": 4,
   "metadata": {},
   "outputs": [
    {
     "data": {
      "text/html": [
       "<div>\n",
       "<style scoped>\n",
       "    .dataframe tbody tr th:only-of-type {\n",
       "        vertical-align: middle;\n",
       "    }\n",
       "\n",
       "    .dataframe tbody tr th {\n",
       "        vertical-align: top;\n",
       "    }\n",
       "\n",
       "    .dataframe thead th {\n",
       "        text-align: right;\n",
       "    }\n",
       "</style>\n",
       "<table border=\"1\" class=\"dataframe\">\n",
       "  <thead>\n",
       "    <tr style=\"text-align: right;\">\n",
       "      <th></th>\n",
       "      <th>train_id</th>\n",
       "      <th>item_condition_id</th>\n",
       "      <th>brand_name</th>\n",
       "      <th>price</th>\n",
       "      <th>shipping</th>\n",
       "      <th>gencat_name</th>\n",
       "      <th>subcat1_name</th>\n",
       "      <th>subcat2_name</th>\n",
       "      <th>preprocessed_name</th>\n",
       "      <th>preprocessed_description</th>\n",
       "      <th>...</th>\n",
       "      <th>gencat_mean_price</th>\n",
       "      <th>subcat1_mean_price</th>\n",
       "      <th>subcat2_mean_price</th>\n",
       "      <th>condition_mean_price</th>\n",
       "      <th>brand_median_price</th>\n",
       "      <th>name_median_price</th>\n",
       "      <th>gencat_median_price</th>\n",
       "      <th>subcat1_median_price</th>\n",
       "      <th>subcat2_median_price</th>\n",
       "      <th>condition_median_price</th>\n",
       "    </tr>\n",
       "  </thead>\n",
       "  <tbody>\n",
       "    <tr>\n",
       "      <th>0</th>\n",
       "      <td>0</td>\n",
       "      <td>3</td>\n",
       "      <td>missing</td>\n",
       "      <td>10.0</td>\n",
       "      <td>1</td>\n",
       "      <td>Men</td>\n",
       "      <td>Tops</td>\n",
       "      <td>Tshirts</td>\n",
       "      <td>mlb cincinnati reds t shirt size xl</td>\n",
       "      <td>no description yet</td>\n",
       "      <td>...</td>\n",
       "      <td>34.734940</td>\n",
       "      <td>19.014216</td>\n",
       "      <td>18.368301</td>\n",
       "      <td>26.557241</td>\n",
       "      <td>14.0</td>\n",
       "      <td>15.5</td>\n",
       "      <td>21.0</td>\n",
       "      <td>14.0</td>\n",
       "      <td>14.0</td>\n",
       "      <td>16.0</td>\n",
       "    </tr>\n",
       "    <tr>\n",
       "      <th>1</th>\n",
       "      <td>1</td>\n",
       "      <td>3</td>\n",
       "      <td>Razer</td>\n",
       "      <td>52.0</td>\n",
       "      <td>0</td>\n",
       "      <td>Electronics</td>\n",
       "      <td>ComputersTablets</td>\n",
       "      <td>ComponentsParts</td>\n",
       "      <td>razer blackwidow chroma keyboard</td>\n",
       "      <td>this keyboard great condition works like came ...</td>\n",
       "      <td>...</td>\n",
       "      <td>35.190558</td>\n",
       "      <td>87.970533</td>\n",
       "      <td>42.913900</td>\n",
       "      <td>26.557241</td>\n",
       "      <td>39.5</td>\n",
       "      <td>40.0</td>\n",
       "      <td>15.0</td>\n",
       "      <td>40.0</td>\n",
       "      <td>25.0</td>\n",
       "      <td>16.0</td>\n",
       "    </tr>\n",
       "    <tr>\n",
       "      <th>2</th>\n",
       "      <td>2</td>\n",
       "      <td>1</td>\n",
       "      <td>Target</td>\n",
       "      <td>10.0</td>\n",
       "      <td>1</td>\n",
       "      <td>Women</td>\n",
       "      <td>TopsBlouses</td>\n",
       "      <td>Blouse</td>\n",
       "      <td>ava viv blouse</td>\n",
       "      <td>adorable top hint lace key hole back the pale ...</td>\n",
       "      <td>...</td>\n",
       "      <td>28.902679</td>\n",
       "      <td>18.249287</td>\n",
       "      <td>15.671262</td>\n",
       "      <td>26.499502</td>\n",
       "      <td>12.0</td>\n",
       "      <td>14.0</td>\n",
       "      <td>19.0</td>\n",
       "      <td>14.0</td>\n",
       "      <td>12.0</td>\n",
       "      <td>18.0</td>\n",
       "    </tr>\n",
       "    <tr>\n",
       "      <th>3</th>\n",
       "      <td>3</td>\n",
       "      <td>1</td>\n",
       "      <td>missing</td>\n",
       "      <td>35.0</td>\n",
       "      <td>1</td>\n",
       "      <td>Home</td>\n",
       "      <td>HomeDcor</td>\n",
       "      <td>HomeDcorAccents</td>\n",
       "      <td>leather horse statues</td>\n",
       "      <td>new tags leather horses retail rm stand foot h...</td>\n",
       "      <td>...</td>\n",
       "      <td>24.551068</td>\n",
       "      <td>21.581724</td>\n",
       "      <td>22.203802</td>\n",
       "      <td>26.499502</td>\n",
       "      <td>14.0</td>\n",
       "      <td>17.0</td>\n",
       "      <td>18.0</td>\n",
       "      <td>16.0</td>\n",
       "      <td>16.0</td>\n",
       "      <td>18.0</td>\n",
       "    </tr>\n",
       "    <tr>\n",
       "      <th>4</th>\n",
       "      <td>4</td>\n",
       "      <td>1</td>\n",
       "      <td>missing</td>\n",
       "      <td>44.0</td>\n",
       "      <td>0</td>\n",
       "      <td>Women</td>\n",
       "      <td>Jewelry</td>\n",
       "      <td>Necklaces</td>\n",
       "      <td>24k gold plated rose</td>\n",
       "      <td>complete certificate authenticity</td>\n",
       "      <td>...</td>\n",
       "      <td>28.902679</td>\n",
       "      <td>27.516272</td>\n",
       "      <td>25.597873</td>\n",
       "      <td>26.499502</td>\n",
       "      <td>14.0</td>\n",
       "      <td>18.0</td>\n",
       "      <td>19.0</td>\n",
       "      <td>14.0</td>\n",
       "      <td>12.0</td>\n",
       "      <td>18.0</td>\n",
       "    </tr>\n",
       "  </tbody>\n",
       "</table>\n",
       "<p>5 rows × 59 columns</p>\n",
       "</div>"
      ],
      "text/plain": [
       "   train_id  item_condition_id brand_name  price  shipping  gencat_name  \\\n",
       "0         0                  3    missing   10.0         1          Men   \n",
       "1         1                  3      Razer   52.0         0  Electronics   \n",
       "2         2                  1     Target   10.0         1        Women   \n",
       "3         3                  1    missing   35.0         1         Home   \n",
       "4         4                  1    missing   44.0         0        Women   \n",
       "\n",
       "       subcat1_name     subcat2_name                    preprocessed_name  \\\n",
       "0              Tops          Tshirts  mlb cincinnati reds t shirt size xl   \n",
       "1  ComputersTablets  ComponentsParts     razer blackwidow chroma keyboard   \n",
       "2       TopsBlouses           Blouse                       ava viv blouse   \n",
       "3          HomeDcor  HomeDcorAccents                leather horse statues   \n",
       "4           Jewelry        Necklaces                 24k gold plated rose   \n",
       "\n",
       "                            preprocessed_description  ... gencat_mean_price  \\\n",
       "0                                 no description yet  ...         34.734940   \n",
       "1  this keyboard great condition works like came ...  ...         35.190558   \n",
       "2  adorable top hint lace key hole back the pale ...  ...         28.902679   \n",
       "3  new tags leather horses retail rm stand foot h...  ...         24.551068   \n",
       "4                  complete certificate authenticity  ...         28.902679   \n",
       "\n",
       "   subcat1_mean_price  subcat2_mean_price  condition_mean_price  \\\n",
       "0           19.014216           18.368301             26.557241   \n",
       "1           87.970533           42.913900             26.557241   \n",
       "2           18.249287           15.671262             26.499502   \n",
       "3           21.581724           22.203802             26.499502   \n",
       "4           27.516272           25.597873             26.499502   \n",
       "\n",
       "   brand_median_price  name_median_price  gencat_median_price  \\\n",
       "0                14.0               15.5                 21.0   \n",
       "1                39.5               40.0                 15.0   \n",
       "2                12.0               14.0                 19.0   \n",
       "3                14.0               17.0                 18.0   \n",
       "4                14.0               18.0                 19.0   \n",
       "\n",
       "   subcat1_median_price  subcat2_median_price  condition_median_price  \n",
       "0                  14.0                  14.0                    16.0  \n",
       "1                  40.0                  25.0                    16.0  \n",
       "2                  14.0                  12.0                    18.0  \n",
       "3                  16.0                  16.0                    18.0  \n",
       "4                  14.0                  12.0                    18.0  \n",
       "\n",
       "[5 rows x 59 columns]"
      ]
     },
     "execution_count": 4,
     "metadata": {},
     "output_type": "execute_result"
    }
   ],
   "source": [
    "df_train.head()"
   ]
  },
  {
   "cell_type": "code",
   "execution_count": 5,
   "metadata": {},
   "outputs": [
    {
     "data": {
      "text/html": [
       "<div>\n",
       "<style scoped>\n",
       "    .dataframe tbody tr th:only-of-type {\n",
       "        vertical-align: middle;\n",
       "    }\n",
       "\n",
       "    .dataframe tbody tr th {\n",
       "        vertical-align: top;\n",
       "    }\n",
       "\n",
       "    .dataframe thead th {\n",
       "        text-align: right;\n",
       "    }\n",
       "</style>\n",
       "<table border=\"1\" class=\"dataframe\">\n",
       "  <thead>\n",
       "    <tr style=\"text-align: right;\">\n",
       "      <th></th>\n",
       "      <th>test_id</th>\n",
       "      <th>item_condition_id</th>\n",
       "      <th>brand_name</th>\n",
       "      <th>shipping</th>\n",
       "      <th>gencat_name</th>\n",
       "      <th>subcat1_name</th>\n",
       "      <th>subcat2_name</th>\n",
       "      <th>preprocessed_name</th>\n",
       "      <th>preprocessed_description</th>\n",
       "      <th>name_first</th>\n",
       "      <th>...</th>\n",
       "      <th>gencat_mean_price</th>\n",
       "      <th>subcat1_mean_price</th>\n",
       "      <th>subcat2_mean_price</th>\n",
       "      <th>condition_mean_price</th>\n",
       "      <th>brand_median_price</th>\n",
       "      <th>name_median_price</th>\n",
       "      <th>gencat_median_price</th>\n",
       "      <th>subcat1_median_price</th>\n",
       "      <th>subcat2_median_price</th>\n",
       "      <th>condition_median_price</th>\n",
       "    </tr>\n",
       "  </thead>\n",
       "  <tbody>\n",
       "    <tr>\n",
       "      <th>0</th>\n",
       "      <td>0</td>\n",
       "      <td>1</td>\n",
       "      <td>missing</td>\n",
       "      <td>1</td>\n",
       "      <td>Women</td>\n",
       "      <td>Jewelry</td>\n",
       "      <td>Rings</td>\n",
       "      <td>breast cancer i fight like a girl ring</td>\n",
       "      <td>size 7</td>\n",
       "      <td>breast</td>\n",
       "      <td>...</td>\n",
       "      <td>28.902679</td>\n",
       "      <td>27.516272</td>\n",
       "      <td>32.960560</td>\n",
       "      <td>26.499502</td>\n",
       "      <td>14.0</td>\n",
       "      <td>10.0</td>\n",
       "      <td>19.0</td>\n",
       "      <td>14.0</td>\n",
       "      <td>15.0</td>\n",
       "      <td>18.0</td>\n",
       "    </tr>\n",
       "    <tr>\n",
       "      <th>1</th>\n",
       "      <td>1</td>\n",
       "      <td>1</td>\n",
       "      <td>missing</td>\n",
       "      <td>1</td>\n",
       "      <td>Other</td>\n",
       "      <td>Officesupplies</td>\n",
       "      <td>ShippingSupplies</td>\n",
       "      <td>25 pcs new 7 5 x12 kraft bubble mailers</td>\n",
       "      <td>25 pcs new 7 5 x12 kraft bubble mailers lined ...</td>\n",
       "      <td>25</td>\n",
       "      <td>...</td>\n",
       "      <td>20.819917</td>\n",
       "      <td>16.719531</td>\n",
       "      <td>11.275820</td>\n",
       "      <td>26.499502</td>\n",
       "      <td>14.0</td>\n",
       "      <td>8.0</td>\n",
       "      <td>14.0</td>\n",
       "      <td>11.0</td>\n",
       "      <td>9.0</td>\n",
       "      <td>18.0</td>\n",
       "    </tr>\n",
       "    <tr>\n",
       "      <th>2</th>\n",
       "      <td>2</td>\n",
       "      <td>1</td>\n",
       "      <td>Coach</td>\n",
       "      <td>1</td>\n",
       "      <td>VintageCollectibles</td>\n",
       "      <td>BagsandPurses</td>\n",
       "      <td>Handbag</td>\n",
       "      <td>coach bag</td>\n",
       "      <td>brand new coach bag bought rm coach outlet</td>\n",
       "      <td>coach</td>\n",
       "      <td>...</td>\n",
       "      <td>27.345891</td>\n",
       "      <td>61.810448</td>\n",
       "      <td>139.664714</td>\n",
       "      <td>26.499502</td>\n",
       "      <td>31.0</td>\n",
       "      <td>29.0</td>\n",
       "      <td>16.0</td>\n",
       "      <td>28.0</td>\n",
       "      <td>55.5</td>\n",
       "      <td>18.0</td>\n",
       "    </tr>\n",
       "    <tr>\n",
       "      <th>3</th>\n",
       "      <td>3</td>\n",
       "      <td>2</td>\n",
       "      <td>missing</td>\n",
       "      <td>0</td>\n",
       "      <td>Women</td>\n",
       "      <td>Sweaters</td>\n",
       "      <td>Cardigan</td>\n",
       "      <td>floral kimono</td>\n",
       "      <td>floral kimono never worn lightweight perfect h...</td>\n",
       "      <td>floral</td>\n",
       "      <td>...</td>\n",
       "      <td>28.902679</td>\n",
       "      <td>26.299720</td>\n",
       "      <td>26.934284</td>\n",
       "      <td>27.584015</td>\n",
       "      <td>14.0</td>\n",
       "      <td>13.0</td>\n",
       "      <td>19.0</td>\n",
       "      <td>20.0</td>\n",
       "      <td>17.0</td>\n",
       "      <td>17.0</td>\n",
       "    </tr>\n",
       "    <tr>\n",
       "      <th>4</th>\n",
       "      <td>4</td>\n",
       "      <td>3</td>\n",
       "      <td>missing</td>\n",
       "      <td>1</td>\n",
       "      <td>Other</td>\n",
       "      <td>Books</td>\n",
       "      <td>ReligionSpirituality</td>\n",
       "      <td>life after death</td>\n",
       "      <td>rediscovering life loss loved one tony cooke p...</td>\n",
       "      <td>life</td>\n",
       "      <td>...</td>\n",
       "      <td>20.819917</td>\n",
       "      <td>16.209066</td>\n",
       "      <td>13.358423</td>\n",
       "      <td>26.557241</td>\n",
       "      <td>14.0</td>\n",
       "      <td>16.0</td>\n",
       "      <td>14.0</td>\n",
       "      <td>11.0</td>\n",
       "      <td>11.0</td>\n",
       "      <td>16.0</td>\n",
       "    </tr>\n",
       "  </tbody>\n",
       "</table>\n",
       "<p>5 rows × 58 columns</p>\n",
       "</div>"
      ],
      "text/plain": [
       "   test_id  item_condition_id brand_name  shipping          gencat_name  \\\n",
       "0        0                  1    missing         1                Women   \n",
       "1        1                  1    missing         1                Other   \n",
       "2        2                  1      Coach         1  VintageCollectibles   \n",
       "3        3                  2    missing         0                Women   \n",
       "4        4                  3    missing         1                Other   \n",
       "\n",
       "     subcat1_name          subcat2_name  \\\n",
       "0         Jewelry                 Rings   \n",
       "1  Officesupplies      ShippingSupplies   \n",
       "2   BagsandPurses               Handbag   \n",
       "3        Sweaters              Cardigan   \n",
       "4           Books  ReligionSpirituality   \n",
       "\n",
       "                         preprocessed_name  \\\n",
       "0   breast cancer i fight like a girl ring   \n",
       "1  25 pcs new 7 5 x12 kraft bubble mailers   \n",
       "2                                coach bag   \n",
       "3                            floral kimono   \n",
       "4                         life after death   \n",
       "\n",
       "                            preprocessed_description name_first  ...  \\\n",
       "0                                             size 7     breast  ...   \n",
       "1  25 pcs new 7 5 x12 kraft bubble mailers lined ...         25  ...   \n",
       "2         brand new coach bag bought rm coach outlet      coach  ...   \n",
       "3  floral kimono never worn lightweight perfect h...     floral  ...   \n",
       "4  rediscovering life loss loved one tony cooke p...       life  ...   \n",
       "\n",
       "   gencat_mean_price  subcat1_mean_price  subcat2_mean_price  \\\n",
       "0          28.902679           27.516272           32.960560   \n",
       "1          20.819917           16.719531           11.275820   \n",
       "2          27.345891           61.810448          139.664714   \n",
       "3          28.902679           26.299720           26.934284   \n",
       "4          20.819917           16.209066           13.358423   \n",
       "\n",
       "   condition_mean_price  brand_median_price  name_median_price  \\\n",
       "0             26.499502                14.0               10.0   \n",
       "1             26.499502                14.0                8.0   \n",
       "2             26.499502                31.0               29.0   \n",
       "3             27.584015                14.0               13.0   \n",
       "4             26.557241                14.0               16.0   \n",
       "\n",
       "   gencat_median_price  subcat1_median_price  subcat2_median_price  \\\n",
       "0                 19.0                  14.0                  15.0   \n",
       "1                 14.0                  11.0                   9.0   \n",
       "2                 16.0                  28.0                  55.5   \n",
       "3                 19.0                  20.0                  17.0   \n",
       "4                 14.0                  11.0                  11.0   \n",
       "\n",
       "   condition_median_price  \n",
       "0                    18.0  \n",
       "1                    18.0  \n",
       "2                    18.0  \n",
       "3                    17.0  \n",
       "4                    16.0  \n",
       "\n",
       "[5 rows x 58 columns]"
      ]
     },
     "execution_count": 5,
     "metadata": {},
     "output_type": "execute_result"
    }
   ],
   "source": [
    "df_test.head()"
   ]
  },
  {
   "cell_type": "markdown",
   "metadata": {},
   "source": [
    "###  Train, Test split for cross validation"
   ]
  },
  {
   "cell_type": "code",
   "execution_count": 6,
   "metadata": {},
   "outputs": [],
   "source": [
    "y = np.log1p(df_train['price'])\n",
    "X=df_train.drop(['price'], axis=1)"
   ]
  },
  {
   "cell_type": "code",
   "execution_count": 7,
   "metadata": {},
   "outputs": [
    {
     "name": "stdout",
     "output_type": "stream",
     "text": [
      "Train size: (1184860, 58), CV size: (296215, 58), Test size: (693359, 58)\n"
     ]
    }
   ],
   "source": [
    "from sklearn.model_selection import train_test_split\n",
    "\n",
    "x_train, x_cv , y_train, y_cv = train_test_split(X, y, test_size=0.2, random_state=42)\n",
    "\n",
    "print('Train size: {}, CV size: {}, Test size: {}' .format(x_train.shape, x_cv.shape, df_test.shape))"
   ]
  },
  {
   "cell_type": "markdown",
   "metadata": {},
   "source": [
    "###  Categorical features\n",
    "\n",
    "* One-hot encoding of brand_name, gencat_name, subcat1_name, subcat2_name.\n"
   ]
  },
  {
   "cell_type": "code",
   "execution_count": 8,
   "metadata": {},
   "outputs": [],
   "source": [
    "import re\n",
    "\n",
    "def clean_category(categorical_values):\n",
    "    '''takes categorical column values as arguments and returns list of cleaned categories'''\n",
    "    \n",
    "    catogories = list(categorical_values)\n",
    "\n",
    "    categorical_values_list = []\n",
    "    for i in tqdm(catogories):\n",
    "        i = re.sub('[^A-Za-z0-9]+', ' ', i)\n",
    "        i = i.replace(' ','')\n",
    "        i = i.replace('&','_')\n",
    "        categorical_values_list.append(i.strip())\n",
    "    \n",
    "    return categorical_values_list "
   ]
  },
  {
   "cell_type": "code",
   "execution_count": 9,
   "metadata": {},
   "outputs": [
    {
     "name": "stderr",
     "output_type": "stream",
     "text": [
      "100%|████████████████████████████████████████████████████████████████████| 1184860/1184860 [00:02<00:00, 397612.52it/s]\n",
      "100%|██████████████████████████████████████████████████████████████████████| 296215/296215 [00:00<00:00, 376391.42it/s]\n",
      "100%|██████████████████████████████████████████████████████████████████████| 693359/693359 [00:01<00:00, 396106.12it/s]\n"
     ]
    }
   ],
   "source": [
    "#Cleaning brand name before using count vectorizer\n",
    "# Using same preprocessing as used earlier for categories: 'clean_cat()' function\n",
    "\n",
    "x_train['brand_name'] = clean_category(x_train['brand_name'].values)\n",
    "\n",
    "x_cv['brand_name'] = clean_category(x_cv['brand_name'].values)\n",
    "\n",
    "df_test['brand_name'] = clean_category(df_test['brand_name'].values)"
   ]
  },
  {
   "cell_type": "code",
   "execution_count": 10,
   "metadata": {},
   "outputs": [
    {
     "name": "stdout",
     "output_type": "stream",
     "text": [
      "Shape of matrices after one hot encoding\n",
      "(1184860, 4509) \n",
      " (296215, 4509) \n",
      " (693359, 4509)\n"
     ]
    }
   ],
   "source": [
    "from sklearn.feature_extraction.text import CountVectorizer \n",
    "\n",
    "vectorizer = CountVectorizer(lowercase=False, binary=True)\n",
    "vectorizer.fit(x_train['brand_name'].values)\n",
    "\n",
    "train_brand_oneHot = vectorizer.transform(x_train['brand_name'].values)\n",
    "\n",
    "cv_brand_oneHot = vectorizer.transform(x_cv['brand_name'].values)\n",
    "\n",
    "test_brand_oneHot = vectorizer.transform(df_test['brand_name'].values)\n",
    "\n",
    "print(\"Shape of matrices after one hot encoding\")\n",
    "\n",
    "print(train_brand_oneHot.shape, \"\\n\", cv_brand_oneHot.shape  ,\"\\n\", test_brand_oneHot.shape)"
   ]
  },
  {
   "cell_type": "code",
   "execution_count": 11,
   "metadata": {},
   "outputs": [
    {
     "name": "stdout",
     "output_type": "stream",
     "text": [
      "Shape of matrices after one hot encoding\n",
      "(1184860, 11) \n",
      " (296215, 11) \n",
      " (693359, 11)\n"
     ]
    }
   ],
   "source": [
    "vectorizer = CountVectorizer(lowercase=False, binary=True)\n",
    "vectorizer.fit(x_train['gencat_name'].values)\n",
    "\n",
    "train_gencat_oneHot = vectorizer.transform(x_train['gencat_name'].values)\n",
    "\n",
    "cv_gencat_oneHot = vectorizer.transform(x_cv['gencat_name'].values)\n",
    "\n",
    "test_gencat_oneHot = vectorizer.transform(df_test['gencat_name'].values)\n",
    "\n",
    "print(\"Shape of matrices after one hot encoding\")\n",
    "\n",
    "print(train_gencat_oneHot.shape, \"\\n\", cv_gencat_oneHot.shape, \"\\n\", test_gencat_oneHot.shape)"
   ]
  },
  {
   "cell_type": "code",
   "execution_count": 12,
   "metadata": {},
   "outputs": [
    {
     "name": "stdout",
     "output_type": "stream",
     "text": [
      "Shape of matrices after one hot encoding\n",
      "(1184860, 114) \n",
      " (296215, 114) \n",
      " (693359, 114)\n"
     ]
    }
   ],
   "source": [
    "vectorizer = CountVectorizer(lowercase=False, binary=True)\n",
    "vectorizer.fit(x_train['subcat1_name'].values)\n",
    "\n",
    "train_subcat1_oneHot = vectorizer.transform(x_train['subcat1_name'].values)\n",
    "\n",
    "cv_subcat1_oneHot = vectorizer.transform(x_cv['subcat1_name'].values)\n",
    "\n",
    "test_subcat1_oneHot = vectorizer.transform(df_test['subcat1_name'].values)\n",
    "\n",
    "print(\"Shape of matrices after one hot encoding\")\n",
    "print(train_subcat1_oneHot.shape, \"\\n\", cv_subcat1_oneHot.shape, \"\\n\", test_subcat1_oneHot.shape)"
   ]
  },
  {
   "cell_type": "code",
   "execution_count": 13,
   "metadata": {},
   "outputs": [
    {
     "name": "stdout",
     "output_type": "stream",
     "text": [
      "Shape of matrices after one hot encoding\n",
      "(1184860, 860) \n",
      " (296215, 860) \n",
      " (693359, 860)\n"
     ]
    }
   ],
   "source": [
    "vectorizer = CountVectorizer(lowercase=False, binary=True)\n",
    "vectorizer.fit(x_train['subcat2_name'].values)\n",
    "\n",
    "train_subcat2_oneHot = vectorizer.transform(x_train['subcat2_name'].values)\n",
    "\n",
    "cv_subcat2_oneHot = vectorizer.transform(x_cv['subcat2_name'].values)\n",
    "\n",
    "test_subcat2_oneHot = vectorizer.transform(df_test['subcat2_name'].values)\n",
    "\n",
    "print(\"Shape of matrices after one hot encoding\")\n",
    "print(train_subcat2_oneHot.shape, \"\\n\", cv_subcat2_oneHot.shape, \"\\n\", test_subcat2_oneHot.shape)"
   ]
  },
  {
   "cell_type": "markdown",
   "metadata": {},
   "source": [
    "### Tfidf vectorization on text features\n",
    "\n",
    "* 1-3 grams of name<br>\n",
    "\n",
    "* 1-3 grams of item_description"
   ]
  },
  {
   "cell_type": "code",
   "execution_count": 14,
   "metadata": {},
   "outputs": [
    {
     "name": "stdout",
     "output_type": "stream",
     "text": [
      "Shape of matrices after vectorization\n",
      "(1184860, 250000) \n",
      " (296215, 250000) \n",
      " (693359, 250000)\n"
     ]
    }
   ],
   "source": [
    "from sklearn.feature_extraction.text import TfidfVectorizer\n",
    "\n",
    "vectorizer = TfidfVectorizer(ngram_range=(1, 3), min_df=3, max_features=250000)\n",
    "vectorizer.fit(x_train['preprocessed_name'].values)\n",
    "\n",
    "train_name_tfidf = vectorizer.transform(x_train['preprocessed_name'].values)\n",
    "\n",
    "cv_name_tfidf = vectorizer.transform(x_cv['preprocessed_name'].values)\n",
    "\n",
    "test_name_tfidf = vectorizer.transform(df_test['preprocessed_name'].values.astype('U'))\n",
    "\n",
    "print(\"Shape of matrices after vectorization\")\n",
    "print(train_name_tfidf.shape, \"\\n\", cv_name_tfidf.shape, \"\\n\", test_name_tfidf.shape)"
   ]
  },
  {
   "cell_type": "code",
   "execution_count": 15,
   "metadata": {},
   "outputs": [
    {
     "name": "stdout",
     "output_type": "stream",
     "text": [
      "Shape of matrices after vectorization\n",
      "(1184860, 500000) \n",
      " (296215, 500000) \n",
      " (693359, 500000)\n"
     ]
    }
   ],
   "source": [
    "vectorizer = TfidfVectorizer(ngram_range=(1, 3), min_df=5, max_features=500000)\n",
    "vectorizer.fit(x_train['preprocessed_description'].values)\n",
    "\n",
    "train_description_tfidf = vectorizer.transform(x_train['preprocessed_description'].values)\n",
    "\n",
    "cv_description_tfidf = vectorizer.transform(x_cv['preprocessed_description'].values)\n",
    "\n",
    "test_description_tfidf = vectorizer.transform(df_test['preprocessed_description'].values.astype('U'))\n",
    "\n",
    "print(\"Shape of matrices after vectorization\")\n",
    "print(train_description_tfidf.shape, \"\\n\", cv_description_tfidf.shape, \"\\n\", test_description_tfidf.shape)"
   ]
  },
  {
   "cell_type": "markdown",
   "metadata": {},
   "source": [
    "## Normalize numerical features"
   ]
  },
  {
   "cell_type": "code",
   "execution_count": 16,
   "metadata": {},
   "outputs": [
    {
     "name": "stdout",
     "output_type": "stream",
     "text": [
      "Normalizing following columns: \n",
      "  {'weird_characters_name', 'condition_mean_price', 'subcat1_median_price', 'prices_count', 'mean_des', 'NameUpper', 'weird_characters_desc', 'name_letters_per_word', 'NameUpperRatio', 'subcat2_mean_price', 'DescriptionLower', 'subcat2_median_price', 'NameLowerRatio', 'DescriptionPunctCountRatio', 'brand_median_price', 'name_median_price', 'DescriptionPunctCount', 'subcat1_mean_price', 'mean_name', 'name_desc_len_ratio', 'NameDigitCount', 'brand_mean_price', 'name_mean_price', 'NameDigitCountRatio', 'subcat1_name_count', 'subcat2_name_count', 'condition_median_price', 'name_word_count', 'des_len', 'DescriptionLowerRatio', 'DescriptionDigitCount', 'stopword_ratio_desc', 'DescriptionUpper', 'DescriptionUpperRatio', 'NameLower', 'gencat_median_price', 'brand_name_count', 'gencat_mean_price', 'gencat_name_count', 'desc_word_count', 'NamePunctCount', 'desc_letters_per_word', 'NamePunctCountRatio', 'DescriptionDigitCountRatio', 'num_sum', 'name_first_count', 'name_len'}\n"
     ]
    }
   ],
   "source": [
    "cols = set(x_train.columns.values) - {'train_id'}\n",
    "\n",
    "skip_cols = {'preprocessed_name', 'item_condition_id', 'brand_name',\n",
    "  'shipping', 'preprocessed_description', 'gencat_name',\n",
    "  'subcat1_name', 'subcat2_name', 'name_first', 'price_in_name'}\n",
    "\n",
    "cols_to_normalize = cols - skip_cols\n",
    "print(\"Normalizing following columns: \\n \", cols_to_normalize)\n",
    "\n",
    "def normalize(df):\n",
    "    result1 = df.copy()\n",
    "    for feature_name in df.columns:\n",
    "        if (feature_name in cols_to_normalize):\n",
    "            max_value = df[feature_name].max()\n",
    "            min_value = df[feature_name].min()\n",
    "            result1[feature_name] = (df[feature_name] - min_value) / (max_value - min_value)\n",
    "    return result1\n"
   ]
  },
  {
   "cell_type": "code",
   "execution_count": 17,
   "metadata": {},
   "outputs": [],
   "source": [
    "train_normalized = normalize(x_train)\n",
    "\n",
    "cv_normalized = normalize(x_cv)\n",
    "\n",
    "test_normalized = normalize(df_test)"
   ]
  },
  {
   "cell_type": "markdown",
   "metadata": {},
   "source": [
    "### Remove non-features from dataframes"
   ]
  },
  {
   "cell_type": "code",
   "execution_count": 18,
   "metadata": {},
   "outputs": [],
   "source": [
    "#Separating and storing all numerical features\n",
    "\n",
    "X_tr = train_normalized[list(cols_to_normalize)]\n",
    "X_val = cv_normalized[list(cols_to_normalize)]\n",
    "X_te = test_normalized[list(cols_to_normalize)]\n"
   ]
  },
  {
   "cell_type": "code",
   "execution_count": 19,
   "metadata": {},
   "outputs": [],
   "source": [
    "x_tr_temp=pd.get_dummies(train_normalized[['item_condition_id', 'shipping', 'price_in_name']], sparse=True)\n",
    "x_cv_temp=pd.get_dummies(cv_normalized[['item_condition_id', 'shipping', 'price_in_name']], sparse=True)\n",
    "x_test_temp=pd.get_dummies(test_normalized[['item_condition_id', 'shipping', 'price_in_name']], sparse=True)"
   ]
  },
  {
   "cell_type": "code",
   "execution_count": 20,
   "metadata": {},
   "outputs": [
    {
     "name": "stdout",
     "output_type": "stream",
     "text": [
      "(1184860, 3) (296215, 3) (693359, 3)\n"
     ]
    }
   ],
   "source": [
    "from scipy.sparse import csr_matrix\n",
    "\n",
    "# Storing categorical features to sparse matrix\n",
    "\n",
    "X_tr_cat = csr_matrix(x_tr_temp.values , dtype=np.int8)\n",
    "\n",
    "X_cv_cat = csr_matrix(x_cv_temp.values, dtype=np.int8)\n",
    "\n",
    "X_te_cat = csr_matrix(x_test_temp.values , dtype=np.int8)\n",
    "\n",
    "print(X_tr_cat.shape, X_cv_cat.shape, X_te_cat.shape)"
   ]
  },
  {
   "cell_type": "markdown",
   "metadata": {},
   "source": [
    "###  Consolidate all features to a sparse matrix"
   ]
  },
  {
   "cell_type": "code",
   "execution_count": 21,
   "metadata": {},
   "outputs": [],
   "source": [
    "from scipy.sparse import hstack\n",
    "\n",
    "# stack all categorical and text sparse matrices\n",
    "\n",
    "train_sparse = hstack((train_brand_oneHot, train_gencat_oneHot, train_subcat1_oneHot, train_subcat2_oneHot, \\\n",
    "               train_name_tfidf, train_description_tfidf, X_tr_cat)).tocsr()\n",
    "\n",
    "cv_sparse = hstack((cv_brand_oneHot, cv_gencat_oneHot, cv_subcat1_oneHot, cv_subcat2_oneHot, \\\n",
    "               cv_name_tfidf, cv_description_tfidf, X_cv_cat)).tocsr()\n",
    "\n",
    "test_sparse = hstack((test_brand_oneHot, test_gencat_oneHot, test_subcat1_oneHot, test_subcat2_oneHot, \\\n",
    "               test_name_tfidf, test_description_tfidf, X_te_cat)).tocsr()"
   ]
  },
  {
   "cell_type": "code",
   "execution_count": 22,
   "metadata": {},
   "outputs": [
    {
     "name": "stdout",
     "output_type": "stream",
     "text": [
      "(1184860, 755497) (296215, 755497) (693359, 755497)\n"
     ]
    }
   ],
   "source": [
    "print(train_sparse.shape, cv_sparse.shape, test_sparse.shape)"
   ]
  },
  {
   "cell_type": "code",
   "execution_count": 23,
   "metadata": {},
   "outputs": [],
   "source": [
    "# stack dense feature matrix with categorical and text vectors\n",
    "\n",
    "X_train = hstack((X_tr.values, train_sparse)).tocsr()\n",
    "\n",
    "X_cv = hstack((X_val.values, cv_sparse)).tocsr()\n",
    "\n",
    "X_test = hstack((X_te.values, test_sparse)).tocsr()"
   ]
  },
  {
   "cell_type": "code",
   "execution_count": 24,
   "metadata": {},
   "outputs": [
    {
     "name": "stdout",
     "output_type": "stream",
     "text": [
      "X_Train size: (1184860, 755544), X_CV size: (296215, 755544), X_Test size: (693359, 755544)\n"
     ]
    }
   ],
   "source": [
    "print('X_Train size: {}, X_CV size: {}, X_Test size: {}' .format(X_train.shape, X_cv.shape, X_test.shape))"
   ]
  },
  {
   "cell_type": "code",
   "execution_count": 25,
   "metadata": {},
   "outputs": [
    {
     "name": "stdout",
     "output_type": "stream",
     "text": [
      "y_Train size: (1184860,), y_CV size: (296215,)\n"
     ]
    }
   ],
   "source": [
    "print('y_Train size: {}, y_CV size: {}' .format(y_train.shape, y_cv.shape))"
   ]
  },
  {
   "cell_type": "markdown",
   "metadata": {},
   "source": [
    "## Modeling"
   ]
  },
  {
   "cell_type": "markdown",
   "metadata": {},
   "source": [
    "### 1. Ridge Model\n",
    "\n",
    "Linear least squares with l2 regularization\n",
    "\n",
    "<a href= \"https://scikit-learn.org/stable/modules/generated/sklearn.linear_model.Ridge.html\">sklearn.linear_model.Ridge </a>"
   ]
  },
  {
   "cell_type": "code",
   "execution_count": 26,
   "metadata": {},
   "outputs": [
    {
     "name": "stderr",
     "output_type": "stream",
     "text": [
      "100%|████████████████████████████████████████████████████████████████████████████████████| 9/9 [11:52<00:00, 79.16s/it]\n"
     ]
    },
    {
     "name": "stdout",
     "output_type": "stream",
     "text": [
      "RMSLE for alpha =  1 is 0.44244101425335164\n",
      "RMSLE for alpha =  2 is 0.4372919335130642\n",
      "RMSLE for alpha =  3 is 0.43622730757959166\n",
      "RMSLE for alpha =  3.5 is 0.43614341447637167\n",
      "RMSLE for alpha =  4 is 0.436292303900162\n",
      "RMSLE for alpha =  4.5 is 0.43659528437430895\n",
      "RMSLE for alpha =  5 is 0.4368969547358504\n",
      "RMSLE for alpha =  6 is 0.4376437221957709\n",
      "RMSLE for alpha =  7 is 0.4385289460805989\n"
     ]
    },
    {
     "data": {
      "image/png": "[encoded data removed]",
      "text/plain": [
       "<Figure size 432x288 with 1 Axes>"
      ]
     },
     "metadata": {},
     "output_type": "display_data"
    }
   ],
   "source": [
    "from sklearn.metrics import mean_squared_error as mse\n",
    "from math import sqrt\n",
    "from sklearn.linear_model import Ridge\n",
    "\n",
    "\n",
    "alpha = [1, 2, 3, 3.5, 4, 4.5, 5, 6, 7] \n",
    "\n",
    "cv_rmsle_array=[] \n",
    "\n",
    "for i in tqdm(alpha):\n",
    "    model = Ridge(solver=\"sag\", random_state=42, alpha=i)\n",
    "    model.fit(X_train, y_train)\n",
    "    preds_cv = model.predict(X_cv)\n",
    "    cv_rmsle_array.append(sqrt(mse(y_cv, preds_cv)))\n",
    "\n",
    "for i in range(len(cv_rmsle_array)):\n",
    "    print ('RMSLE for alpha = ',alpha[i],'is',cv_rmsle_array[i])\n",
    "    \n",
    "best_alpha = np.argmin(cv_rmsle_array)\n",
    "\n",
    "fig, ax = plt.subplots()\n",
    "ax.plot(alpha, cv_rmsle_array)\n",
    "ax.scatter(alpha, cv_rmsle_array)\n",
    "for i, txt in enumerate(np.round(cv_rmsle_array,3)):\n",
    "    ax.annotate((alpha[i],np.round(txt,3)), (alpha[i],cv_rmsle_array[i]))\n",
    "\n",
    "plt.title(\"Cross Validation Error for each alpha\")\n",
    "plt.xlabel(\"Alpha\")\n",
    "plt.ylabel(\"Error\")\n",
    "plt.show()"
   ]
  },
  {
   "cell_type": "code",
   "execution_count": 27,
   "metadata": {},
   "outputs": [
    {
     "name": "stdout",
     "output_type": "stream",
     "text": [
      "Best alpha:  3.5\n",
      "Train RMSLE: 0.376691052224983\n",
      "Cross validation RMSLE:  0.43614341447637167\n"
     ]
    }
   ],
   "source": [
    "print(\"Best alpha: \",  alpha[best_alpha])\n",
    "model = Ridge(solver=\"sag\", random_state=42, alpha=alpha[best_alpha])\n",
    "model.fit(X_train, y_train)\n",
    "ridge_preds_tr = model.predict(X_train)\n",
    "ridge_preds_cv = model.predict(X_cv)\n",
    "\n",
    "print('Train RMSLE:', sqrt(mse(y_train, ridge_preds_tr)))\n",
    " \n",
    "print(\"Cross validation RMSLE: \", sqrt(mse(y_cv, ridge_preds_cv)))\n"
   ]
  },
  {
   "cell_type": "code",
   "execution_count": 28,
   "metadata": {},
   "outputs": [],
   "source": [
    "submission = pd.read_csv('sample_submission.csv')\n",
    "\n",
    "ridge_preds_te = model.predict(X_test)\n",
    "\n",
    "submission['price'] = ridge_preds_te\n",
    "\n",
    "submission.to_csv('ridge_model.csv', index=False)\n"
   ]
  },
  {
   "cell_type": "markdown",
   "metadata": {
    "colab_type": "text",
    "id": "jAgDOLvLqHsK"
   },
   "source": [
    "### 2. SVM Regression"
   ]
  },
  {
   "cell_type": "markdown",
   "metadata": {
    "colab_type": "text",
    "id": "c57iSJliqHsM"
   },
   "source": [
    "#### Hyper parameter tuning using RandomizedSearchCV"
   ]
  },
  {
   "cell_type": "code",
   "execution_count": 30,
   "metadata": {
    "colab": {
     "base_uri": "https://localhost:8080/",
     "height": 420
    },
    "colab_type": "code",
    "executionInfo": {
     "elapsed": 1786293,
     "status": "ok",
     "timestamp": 1584175700495,
     "user": {
      "displayName": "Arun Singh",
      "photoUrl": "https://lh3.googleusercontent.com/a-/AOh14GiLB1oZWi0vJw-6NUEFnpDZhxuDlv90nmX88O0y-A=s64",
      "userId": "01425536422013553450"
     },
     "user_tz": -330
    },
    "id": "JBB5l7JOqHsQ",
    "outputId": "159bad1a-eb69-4890-b2c8-0c4418b75b6e"
   },
   "outputs": [
    {
     "name": "stdout",
     "output_type": "stream",
     "text": [
      "RMSLE for C= 0.01 is 1.305164505733532\n",
      "RMSLE for C= 0.03 is 1.2643218261140055\n",
      "RMSLE for C= 0.1 is 1.171096454196885\n",
      "RMSLE for C= 0.3 is 1.0562243960591806\n",
      "RMSLE for C= 1 is 0.9711361763565276\n",
      "RMSLE for C= 3 is 0.8659787697378741\n",
      "RMSLE for C= 10 is 1.2096595752820591\n"
     ]
    },
    {
     "data": {
      "image/png": "[encoded data removed]",
      "text/plain": [
       "<Figure size 432x288 with 1 Axes>"
      ]
     },
     "metadata": {},
     "output_type": "display_data"
    }
   ],
   "source": [
    "c_param = [0.01, 0.03, 0.1, 0.3, 1, 3, 10]\n",
    "cv_rmsle_array=[]\n",
    "\n",
    "for i in c_param:\n",
    "    model = SVR(C=i, max_iter=200)\n",
    "    model.fit(X_train, y_train)\n",
    "    preds_cv = model.predict(X_cv)\n",
    "    cv_err = sqrt(mse(y_cv, preds_cv))\n",
    "    cv_rmsle_array.append(cv_err)\n",
    "\n",
    "    print('RMSLE for C=',i, 'is', cv_err)\n",
    "\n",
    "best_C = np.argmin(cv_rmsle_array)\n",
    "\n",
    "fig, ax = plt.subplots()\n",
    "ax.plot(c_param, cv_rmsle_array)\n",
    "ax.scatter(c_param, cv_rmsle_array)\n",
    "for i, txt in enumerate(np.round(cv_rmsle_array,3)):\n",
    "    ax.annotate((c_param[i],np.round(txt,3)), (c_param[i],cv_rmsle_array[i]))\n",
    "plt.title(\"Cross Validation Error for each C\")\n",
    "plt.xlabel(\"C\")\n",
    "plt.ylabel(\"Error\")\n",
    "plt.show()"
   ]
  },
  {
   "cell_type": "markdown",
   "metadata": {
    "colab_type": "text",
    "id": "zu6lG2UGqHsp"
   },
   "source": [
    "#### Training and testing using best parameters "
   ]
  },
  {
   "cell_type": "code",
   "execution_count": 31,
   "metadata": {
    "colab": {
     "base_uri": "https://localhost:8080/",
     "height": 68
    },
    "colab_type": "code",
    "executionInfo": {
     "elapsed": 218811,
     "status": "ok",
     "timestamp": 1584176274717,
     "user": {
      "displayName": "Arun Singh",
      "photoUrl": "https://lh3.googleusercontent.com/a-/AOh14GiLB1oZWi0vJw-6NUEFnpDZhxuDlv90nmX88O0y-A=s64",
      "userId": "01425536422013553450"
     },
     "user_tz": -330
    },
    "id": "77T0Nd4rPM94",
    "outputId": "2ad8c746-8201-4b31-bf5f-03a12a2cf465"
   },
   "outputs": [
    {
     "name": "stdout",
     "output_type": "stream",
     "text": [
      "Best C:  3\n"
     ]
    },
    {
     "data": {
      "text/plain": [
       "SVR(C=3, max_iter=200)"
      ]
     },
     "execution_count": 31,
     "metadata": {},
     "output_type": "execute_result"
    }
   ],
   "source": [
    "best_C = c_param[best_C]\n",
    "print('Best C: ', best_C)\n",
    "model = SVR(C=best_C, max_iter=200)\n",
    "model.fit(X_train, y_train)"
   ]
  },
  {
   "cell_type": "code",
   "execution_count": 32,
   "metadata": {
    "colab": {
     "base_uri": "https://localhost:8080/",
     "height": 51
    },
    "colab_type": "code",
    "executionInfo": {
     "elapsed": 226034,
     "status": "ok",
     "timestamp": 1584176527418,
     "user": {
      "displayName": "Arun Singh",
      "photoUrl": "https://lh3.googleusercontent.com/a-/AOh14GiLB1oZWi0vJw-6NUEFnpDZhxuDlv90nmX88O0y-A=s64",
      "userId": "01425536422013553450"
     },
     "user_tz": -330
    },
    "id": "RdPlu1R4qHs3",
    "outputId": "261219de-8581-41af-9217-01e08b950d3a"
   },
   "outputs": [
    {
     "name": "stdout",
     "output_type": "stream",
     "text": [
      "Train RMSLE: 0.8558257457135766\n",
      "Cross validation RMSLE:  0.8659787697378741\n"
     ]
    }
   ],
   "source": [
    "svr_preds_tr = model.predict(X_train)\n",
    "\n",
    "svr_preds_cv = model.predict(X_cv)\n",
    "\n",
    "print('Train RMSLE:', sqrt(mse(y_train, svr_preds_tr)))\n",
    "\n",
    "print(\"Cross validation RMSLE: \", sqrt(mse(y_cv, svr_preds_cv)))"
   ]
  },
  {
   "cell_type": "code",
   "execution_count": 34,
   "metadata": {},
   "outputs": [],
   "source": [
    "submission = pd.read_csv('sample_submission.csv')\n",
    "\n",
    "svr_preds_cv = model.predict(X_test)\n",
    "\n",
    "submission['price'] = svr_preds_cv\n",
    "\n",
    "submission.to_csv('svm_model.csv', index=False)\n"
   ]
  },
  {
   "cell_type": "markdown",
   "metadata": {
    "colab_type": "text",
    "id": "ehHjX3aSqHtK"
   },
   "source": [
    "### 3. RandomForest Regression"
   ]
  },
  {
   "cell_type": "markdown",
   "metadata": {
    "colab_type": "text",
    "id": "cnYeZWqdqHtL"
   },
   "source": [
    "#### Hyper parameter tuning using RandomizedSearchCV"
   ]
  },
  {
   "cell_type": "code",
   "execution_count": 26,
   "metadata": {
    "colab": {
     "base_uri": "https://localhost:8080/",
     "height": 335
    },
    "colab_type": "code",
    "executionInfo": {
     "elapsed": 7333208,
     "status": "ok",
     "timestamp": 1584202148337,
     "user": {
      "displayName": "Arun Singh",
      "photoUrl": "https://lh3.googleusercontent.com/a-/AOh14GiLB1oZWi0vJw-6NUEFnpDZhxuDlv90nmX88O0y-A=s64",
      "userId": "01425536422013553450"
     },
     "user_tz": -330
    },
    "id": "1nd5LxBCG_9c",
    "outputId": "e25e3eb0-ce48-44c6-e4cc-0a540c8a86ae",
    "scrolled": true
   },
   "outputs": [
    {
     "name": "stdout",
     "output_type": "stream",
     "text": [
      "RMSLE for N=10 is 0.5157758825880991\t elapsed time:1:23:21.604008\n",
      "RMSLE for N=20 is 0.5045719085993344\t elapsed time:4:12:50.361370\n"
     ]
    },
    {
     "data": {
      "image/png": "[encoded data removed]",
      "text/plain": [
       "<Figure size 432x288 with 1 Axes>"
      ]
     },
     "metadata": {},
     "output_type": "display_data"
    }
   ],
   "source": [
    "dt = datetime.datetime #to track time\n",
    "\n",
    "estimators = [10, 20]\n",
    "cv_rmsle_array=[]\n",
    "t0 = dt.now()\n",
    "for i in estimators:\n",
    "    model = RandomForestRegressor(n_estimators=i, min_samples_split=10, max_features='sqrt', max_samples=0.9, random_state=42)\n",
    "    model.fit(X_train, y_train)\n",
    "    preds_cv = model.predict(X_cv)\n",
    "    cv_err = sqrt(mse(y_cv, preds_cv))\n",
    "    cv_rmsle_array.append(cv_err)\n",
    "\n",
    "    print (f'RMSLE for N={i} is {cv_err}\\t elapsed time:{dt.now() - t0}')\n",
    "\n",
    "best_N = np.argmin(cv_rmsle_array)\n",
    "\n",
    "fig, ax = plt.subplots()\n",
    "ax.plot(estimators, cv_rmsle_array)\n",
    "ax.scatter(estimators, cv_rmsle_array)\n",
    "for i, txt in enumerate(np.round(cv_rmsle_array,3)):\n",
    "    ax.annotate((estimators[i],np.round(txt,3)), (estimators[i],cv_rmsle_array[i]))\n",
    "plt.title(\"Cross Validation Error for each N\")\n",
    "plt.xlabel(\"n_estimators\")\n",
    "plt.ylabel(\"Error\")\n",
    "plt.show()"
   ]
  },
  {
   "cell_type": "markdown",
   "metadata": {},
   "source": [
    "**Training RandomForest Regressor with higher values of n_estimators was taking tremendous amount of time without giving any results. Due to this reason, we have trained it with less number of estimators. The above code itself took approx. 3 hrs and hence, we did not train further.**"
   ]
  },
  {
   "cell_type": "markdown",
   "metadata": {
    "colab_type": "text",
    "id": "42uDBuWuqHte"
   },
   "source": [
    "#### Training and testing using best parameters "
   ]
  },
  {
   "cell_type": "code",
   "execution_count": 27,
   "metadata": {
    "colab": {
     "base_uri": "https://localhost:8080/",
     "height": 357
    },
    "colab_type": "code",
    "executionInfo": {
     "elapsed": 1885291,
     "status": "error",
     "timestamp": 1584204419505,
     "user": {
      "displayName": "Arun Singh",
      "photoUrl": "https://lh3.googleusercontent.com/a-/AOh14GiLB1oZWi0vJw-6NUEFnpDZhxuDlv90nmX88O0y-A=s64",
      "userId": "01425536422013553450"
     },
     "user_tz": -330
    },
    "id": "Pj3KAn8XqHtg",
    "outputId": "d820d2a8-d31d-4c7b-e16b-3bc5d2cf515c",
    "scrolled": false
   },
   "outputs": [
    {
     "name": "stdout",
     "output_type": "stream",
     "text": [
      "Best n_estimators:  20\n"
     ]
    },
    {
     "data": {
      "text/plain": [
       "RandomForestRegressor(max_features='sqrt', max_samples=0.9,\n",
       "                      min_samples_split=10, n_estimators=20, random_state=42)"
      ]
     },
     "execution_count": 27,
     "metadata": {},
     "output_type": "execute_result"
    }
   ],
   "source": [
    "best_N = estimators[best_N]\n",
    "print('Best n_estimators: ', best_N)\n",
    "model = RandomForestRegressor(n_estimators=best_N, min_samples_split=10, max_features='sqrt', max_samples=0.9, random_state=42)\n",
    "model.fit(X_train, y_train)"
   ]
  },
  {
   "cell_type": "code",
   "execution_count": 28,
   "metadata": {
    "colab": {
     "base_uri": "https://localhost:8080/",
     "height": 374
    },
    "colab_type": "code",
    "executionInfo": {
     "elapsed": 845,
     "status": "error",
     "timestamp": 1584204768954,
     "user": {
      "displayName": "Arun Singh",
      "photoUrl": "https://lh3.googleusercontent.com/a-/AOh14GiLB1oZWi0vJw-6NUEFnpDZhxuDlv90nmX88O0y-A=s64",
      "userId": "01425536422013553450"
     },
     "user_tz": -330
    },
    "id": "KPga0r59qHtr",
    "outputId": "5431fbed-e57d-41c6-c8b7-da54819b0da8",
    "scrolled": true
   },
   "outputs": [
    {
     "name": "stdout",
     "output_type": "stream",
     "text": [
      "Train RMSLE: 0.28726248842446195\n",
      "Cross validation RMSLE:  0.5045719085993344\n"
     ]
    }
   ],
   "source": [
    "rf_preds_tr = model.predict(X_train)\n",
    "rf_preds_cv = model.predict(X_cv)\n",
    "\n",
    "\n",
    "print('Train RMSLE:', sqrt(mse(y_train, rf_preds_tr)))\n",
    "\n",
    "print(\"Cross validation RMSLE: \", sqrt(mse(y_cv, rf_preds_cv)))"
   ]
  },
  {
   "cell_type": "code",
   "execution_count": 29,
   "metadata": {},
   "outputs": [],
   "source": [
    "submission = pd.read_csv('sample_submission.csv')\n",
    "\n",
    "randomforest_preds_te = model.predict(X_test)\n",
    "\n",
    "submission['price'] = randomforest_preds_te\n",
    "\n",
    "submission.to_csv('randomforest_model.csv', index=False)\n"
   ]
  },
  {
   "cell_type": "markdown",
   "metadata": {
    "colab_type": "text",
    "id": "cxu9IDJDqHt2"
   },
   "source": [
    "### 4. LightGBM Regression"
   ]
  },
  {
   "cell_type": "markdown",
   "metadata": {
    "colab_type": "text",
    "id": "yJJikTXMqHt3"
   },
   "source": [
    "#### Hyper parameter tuning using RandomizedSearchCV"
   ]
  },
  {
   "cell_type": "code",
   "execution_count": 28,
   "metadata": {
    "colab": {},
    "colab_type": "code",
    "id": "nRny4uSDqHt4",
    "outputId": "82f9e435-d48b-4abc-d233-876907b3f547"
   },
   "outputs": [
    {
     "name": "stdout",
     "output_type": "stream",
     "text": [
      "Fitting 3 folds for each of 4 candidates, totalling 12 fits\n",
      "[CV 1/3; 1/4] START learning_rate=0.3745401188473625, max_depth=14, min_child_weight=0.3668695797323276, n_estimators=1395, num_leaves=40\n",
      "[CV 1/3; 1/4] END learning_rate=0.3745401188473625, max_depth=14, min_child_weight=0.3668695797323276, n_estimators=1395, num_leaves=40;, score=(train=-0.355, test=-0.435) total time=36.9min\n",
      "[CV 2/3; 1/4] START learning_rate=0.3745401188473625, max_depth=14, min_child_weight=0.3668695797323276, n_estimators=1395, num_leaves=40\n",
      "[CV 2/3; 1/4] END learning_rate=0.3745401188473625, max_depth=14, min_child_weight=0.3668695797323276, n_estimators=1395, num_leaves=40;, score=(train=-0.355, test=-0.433) total time=43.7min\n",
      "[CV 3/3; 1/4] START learning_rate=0.3745401188473625, max_depth=14, min_child_weight=0.3668695797323276, n_estimators=1395, num_leaves=40\n",
      "[CV 3/3; 1/4] END learning_rate=0.3745401188473625, max_depth=14, min_child_weight=0.3668695797323276, n_estimators=1395, num_leaves=40;, score=(train=-0.355, test=-0.433) total time=41.2min\n",
      "[CV 1/3; 2/4] START learning_rate=0.15601864044243652, max_depth=4, min_child_weight=0.19994983163600577, n_estimators=387, num_leaves=136\n",
      "[CV 1/3; 2/4] END learning_rate=0.15601864044243652, max_depth=4, min_child_weight=0.19994983163600577, n_estimators=387, num_leaves=136;, score=(train=-0.475, test=-0.481) total time=23.5min\n",
      "[CV 2/3; 2/4] START learning_rate=0.15601864044243652, max_depth=4, min_child_weight=0.19994983163600577, n_estimators=387, num_leaves=136\n",
      "[CV 2/3; 2/4] END learning_rate=0.15601864044243652, max_depth=4, min_child_weight=0.19994983163600577, n_estimators=387, num_leaves=136;, score=(train=-0.475, test=-0.480) total time=28.6min\n",
      "[CV 3/3; 2/4] START learning_rate=0.15601864044243652, max_depth=4, min_child_weight=0.19994983163600577, n_estimators=387, num_leaves=136\n",
      "[CV 3/3; 2/4] END learning_rate=0.15601864044243652, max_depth=4, min_child_weight=0.19994983163600577, n_estimators=387, num_leaves=136;, score=(train=-0.475, test=-0.479) total time=27.0min\n",
      "[CV 1/3; 3/4] START learning_rate=0.6011150117432088, max_depth=9, min_child_weight=1.3017769458977058, n_estimators=1069, num_leaves=107\n",
      "[CV 1/3; 3/4] END learning_rate=0.6011150117432088, max_depth=9, min_child_weight=1.3017769458977058, n_estimators=1069, num_leaves=107;, score=(train=-0.359, test=-0.454) total time=36.9min\n",
      "[CV 2/3; 3/4] START learning_rate=0.6011150117432088, max_depth=9, min_child_weight=1.3017769458977058, n_estimators=1069, num_leaves=107\n",
      "[CV 2/3; 3/4] END learning_rate=0.6011150117432088, max_depth=9, min_child_weight=1.3017769458977058, n_estimators=1069, num_leaves=107;, score=(train=-0.358, test=-0.452) total time=29.3min\n",
      "[CV 3/3; 3/4] START learning_rate=0.6011150117432088, max_depth=9, min_child_weight=1.3017769458977058, n_estimators=1069, num_leaves=107\n",
      "[CV 3/3; 3/4] END learning_rate=0.6011150117432088, max_depth=9, min_child_weight=1.3017769458977058, n_estimators=1069, num_leaves=107;, score=(train=-0.360, test=-0.451) total time=29.5min\n",
      "[CV 1/3; 4/4] START learning_rate=0.8324426408004217, max_depth=7, min_child_weight=0.0015575316820286567, n_estimators=1255, num_leaves=40\n",
      "[CV 1/3; 4/4] END learning_rate=0.8324426408004217, max_depth=7, min_child_weight=0.0015575316820286567, n_estimators=1255, num_leaves=40;, score=(train=-0.373, test=-0.466) total time=28.7min\n",
      "[CV 2/3; 4/4] START learning_rate=0.8324426408004217, max_depth=7, min_child_weight=0.0015575316820286567, n_estimators=1255, num_leaves=40\n",
      "[CV 2/3; 4/4] END learning_rate=0.8324426408004217, max_depth=7, min_child_weight=0.0015575316820286567, n_estimators=1255, num_leaves=40;, score=(train=-0.373, test=-0.465) total time=29.1min\n",
      "[CV 3/3; 4/4] START learning_rate=0.8324426408004217, max_depth=7, min_child_weight=0.0015575316820286567, n_estimators=1255, num_leaves=40\n",
      "[CV 3/3; 4/4] END learning_rate=0.8324426408004217, max_depth=7, min_child_weight=0.0015575316820286567, n_estimators=1255, num_leaves=40;, score=(train=-0.374, test=-0.465) total time=29.1min\n"
     ]
    }
   ],
   "source": [
    "from lightgbm import LGBMRegressor\n",
    "\n",
    "lgb_model=LGBMRegressor()\n",
    "\n",
    "params = {'learning_rate': uniform(0, 1),\n",
    "          'n_estimators': sp_randint(300, 1500),\n",
    "          'num_leaves': sp_randint(20, 200),\n",
    "          'max_depth': sp_randint(2, 15),\n",
    "          'min_child_weight': uniform(0, 2),\n",
    "         }\n",
    "\n",
    "\n",
    "lgb_random = RandomizedSearchCV(lgb_model, param_distributions=params, n_iter=4, cv=3, random_state=42, \n",
    "                                scoring='neg_root_mean_squared_error', verbose=10, return_train_score=True)\n",
    "lgb_random = lgb_random.fit(X_train, y_train)"
   ]
  },
  {
   "cell_type": "code",
   "execution_count": 29,
   "metadata": {
    "colab": {},
    "colab_type": "code",
    "id": "E91wPSoYqHuB",
    "outputId": "fa550948-cac0-4d2f-8faa-a028362e44b6"
   },
   "outputs": [],
   "source": [
    "df1 = pd.DataFrame(lgb_random.cv_results_)\n",
    "#df1[['param_learning_rate', 'param_n_estimators', 'param_num_leaves', 'param_max_depth', 'param_min_child_weight', 'param_colsample_bytree', 'mean_train_score', 'mean_test_score']]"
   ]
  },
  {
   "cell_type": "code",
   "execution_count": 30,
   "metadata": {
    "colab": {},
    "colab_type": "code",
    "id": "YekBUdP9qHuF",
    "outputId": "8e089299-7358-452e-adf1-456123db36e6"
   },
   "outputs": [
    {
     "name": "stdout",
     "output_type": "stream",
     "text": [
      "{'learning_rate': 0.3745401188473625, 'max_depth': 14, 'min_child_weight': 0.3668695797323276, 'n_estimators': 1395, 'num_leaves': 40}\n"
     ]
    }
   ],
   "source": [
    "best_params = lgb_random.best_params_\n",
    "print(best_params)"
   ]
  },
  {
   "cell_type": "markdown",
   "metadata": {
    "colab_type": "text",
    "id": "LltDSSWNqHuJ"
   },
   "source": [
    "#### Training and testing using best parameters "
   ]
  },
  {
   "cell_type": "code",
   "execution_count": 31,
   "metadata": {
    "colab": {},
    "colab_type": "code",
    "id": "ywxA4pCbqHuL",
    "outputId": "85b85d12-49f4-44ba-f901-529b32f7a98a"
   },
   "outputs": [
    {
     "data": {
      "text/plain": [
       "LGBMRegressor(learning_rate=0.3745401188473625, max_depth=14,\n",
       "              min_child_weight=0.3668695797323276, n_estimators=1395,\n",
       "              num_leaves=40, random_state=42, subsample=0.9)"
      ]
     },
     "execution_count": 31,
     "metadata": {},
     "output_type": "execute_result"
    }
   ],
   "source": [
    "model = LGBMRegressor(**best_params, subsample=0.9, random_state=42, n_jobs=-1)\n",
    "model.fit(X_train, y_train)"
   ]
  },
  {
   "cell_type": "code",
   "execution_count": 32,
   "metadata": {
    "colab": {},
    "colab_type": "code",
    "id": "KAv4add1qHuT",
    "outputId": "d97e8cd7-6a8e-44c5-8d3d-07b5ff96e8c7"
   },
   "outputs": [
    {
     "name": "stdout",
     "output_type": "stream",
     "text": [
      "Train RMSLE: 0.36759102761775614\n",
      "Cross validation RMSLE:  0.43092987182318254\n"
     ]
    }
   ],
   "source": [
    "lgb_preds_tr = model.predict(X_train)\n",
    "lgb_preds_cv = model.predict(X_cv)\n",
    "\n",
    "\n",
    "print('Train RMSLE:', sqrt(mse(y_train, lgb_preds_tr)))\n",
    "\n",
    "print(\"Cross validation RMSLE: \", sqrt(mse(y_cv, lgb_preds_cv)))"
   ]
  },
  {
   "cell_type": "code",
   "execution_count": 36,
   "metadata": {
    "colab": {},
    "colab_type": "code",
    "id": "9TNENQl0qHuZ"
   },
   "outputs": [],
   "source": [
    "submission_df = pd.read_csv('sample_submission.csv')\n",
    "\n",
    "lgb_preds_te = model.predict(X_test)\n",
    "\n",
    "#submission_df['price'] = np.exp(lgb_preds_te) - 1\n",
    "\n",
    "submission_df['price'] = lgb_preds_te\n",
    "\n",
    "submission_df.to_csv('lgb_model.csv', index=False)\n"
   ]
  },
  {
   "cell_type": "code",
   "execution_count": null,
   "metadata": {},
   "outputs": [],
   "source": []
  },
  {
   "cell_type": "markdown",
   "metadata": {
    "colab_type": "text",
    "id": "5FkQ4Q9aqHud"
   },
   "source": [
    "## Summary"
   ]
  },
  {
   "cell_type": "code",
   "execution_count": 2,
   "metadata": {
    "colab": {},
    "colab_type": "code",
    "id": "miqqsp38qHue",
    "outputId": "12692547-dadc-49cd-f6d3-4ae27f1db0f2"
   },
   "outputs": [
    {
     "name": "stdout",
     "output_type": "stream",
     "text": [
      "+---------------+-------------+------------------+\n",
      "|     Model     | Train_RMSLE | Validation_RMSLE |\n",
      "+---------------+-------------+------------------+\n",
      "|     Ridge     |    0.3766   |      0.4361      |\n",
      "|      SVR      |    0.8558   |      0.8659      |\n",
      "| Random Forest |    0.2872   |      0.5045      |\n",
      "|    LightGBM   |    0.3675   |      0.4305      |\n",
      "+---------------+-------------+------------------+\n"
     ]
    }
   ],
   "source": [
    "from prettytable import PrettyTable\n",
    "\n",
    "x=PrettyTable([\"Model\", \"Train_RMSLE\", \"Validation_RMSLE\"])\n",
    "\n",
    "x.add_row([\"Ridge\",  \"0.3766\", \"0.4361\"])\n",
    "x.add_row([\"SVR\",  \"0.8558\", \"0.8659\"])\n",
    "x.add_row([\"Random Forest\",  \"0.2872\", \"0.5045\"])\n",
    "x.add_row([\"LightGBM\", \"0.3675\", \"0.4305\"])\n",
    "\n",
    "print(x)"
   ]
  },
  {
   "cell_type": "markdown",
   "metadata": {},
   "source": [
    "#### Conclusion\n",
    "----------------\n",
    "\n",
    "* Based on our analysis, we can see the best result we have got from LightGBM model, So we will consider it as our final model."
   ]
  },
  {
   "cell_type": "code",
   "execution_count": null,
   "metadata": {},
   "outputs": [],
   "source": []
  }
 ],
 "metadata": {
  "colab": {
   "name": "Mercari_advModel.ipynb",
   "provenance": []
  },
  "kernelspec": {
   "display_name": "Python 3",
   "language": "python",
   "name": "python3"
  },
  "language_info": {
   "codemirror_mode": {
    "name": "ipython",
    "version": 3
   },
   "file_extension": ".py",
   "mimetype": "text/x-python",
   "name": "python",
   "nbconvert_exporter": "python",
   "pygments_lexer": "ipython3",
   "version": "3.8.5"
  }
 },
 "nbformat": 4,
 "nbformat_minor": 1
}
